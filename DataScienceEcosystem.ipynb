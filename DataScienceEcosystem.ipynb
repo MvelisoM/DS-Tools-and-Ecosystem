{
 "cells": [
  {
   "cell_type": "markdown",
   "id": "2fb42a3e-5376-42db-a00b-7da32b4bed35",
   "metadata": {},
   "source": [
    "# Data Science Tools and Ecosystem"
   ]
  },
  {
   "cell_type": "markdown",
   "id": "9a54ac20-d7e9-4b1c-ad5d-d24c46b2bae0",
   "metadata": {},
   "source": [
    "In this notebook, Data Science Tools and Ecosystem are summarized."
   ]
  },
  {
   "cell_type": "markdown",
   "id": "eb720055-98ae-4743-9d78-fdaa4b87f88e",
   "metadata": {},
   "source": [
    "**Objectives:**\n",
    "- List popular languages for Data Science\n",
    "- List commonly used libraries for Data Science\n",
    "- Create tables in Jupyter Notebook\n",
    "- Write arithmetic expressions in Python"
   ]
  },
  {
   "cell_type": "markdown",
   "id": "41e24eb1-ee3a-410e-bf0a-699ff61e8876",
   "metadata": {},
   "source": [
    "Some of the popular languages that Data Scientists use are:\n",
    "1. Python\n",
    "2. R\n",
    "3. SQL\n",
    "4. Julia\n",
    "5. Scala"
   ]
  },
  {
   "cell_type": "markdown",
   "id": "c8239e6e-38f4-40dc-921d-decb24e26b83",
   "metadata": {},
   "source": [
    "Some of the commonly used libraries used by Da- For data manipulation and analysis\n",
    "1. Pandas\n",
    "2. NumPy\n",
    "3. Scikit-learn\n",
    "4. Matplotlib\n",
    "5. TensorFlow/PyTorch"
   ]
  },
  {
   "cell_type": "markdown",
   "id": "15f1ff7d-51c6-4f33-b63c-8e62360245a9",
   "metadata": {},
   "source": [
    "|Data Science Tools|\n",
    "|------------------|\n",
    "| RStudio |\n",
    "| JupyterLab |\n",
    "| Apache Zeppelin |"
   ]
  },
  {
   "cell_type": "markdown",
   "id": "019f8a58-cd2c-4b08-9d90-32151f79104b",
   "metadata": {},
   "source": [
    "### Below are a few examples of evaluating arithmetic expressions in Python.\n"
   ]
  },
  {
   "cell_type": "code",
   "execution_count": 1,
   "id": "6a4ec46c-d8b2-4ece-9a64-ec176fe6ba98",
   "metadata": {},
   "outputs": [
    {
     "name": "stdout",
     "output_type": "stream",
     "text": [
      "17\n"
     ]
    }
   ],
   "source": [
    "print((3*4)+5) # This a simple arithmetic expression to mutiply then add integers."
   ]
  },
  {
   "cell_type": "code",
   "execution_count": 4,
   "id": "390c65fb-4e21-4fae-a37f-45b237cebcde",
   "metadata": {},
   "outputs": [
    {
     "name": "stdout",
     "output_type": "stream",
     "text": [
      "200 minutes in hours is: 3.3333333333333335 hrs\n"
     ]
    }
   ],
   "source": [
    "# This will convert 200 minutes to hours by diving by 60\n",
    "print(\"200 minutes in hours is: \" + str(200/60) + \" hrs\")"
   ]
  },
  {
   "cell_type": "markdown",
   "id": "2acf6a51-99ec-451c-bee4-495b7cd05bce",
   "metadata": {},
   "source": [
    "## Author:\n",
    "Mveliso Mathonsi"
   ]
  },
  {
   "cell_type": "code",
   "execution_count": null,
   "id": "a53184fa-1d9a-4c89-b1ec-6c9d5fe26bb3",
   "metadata": {},
   "outputs": [],
   "source": []
  }
 ],
 "metadata": {
  "kernelspec": {
   "display_name": "Python 3 (ipykernel)",
   "language": "python",
   "name": "python3"
  },
  "language_info": {
   "codemirror_mode": {
    "name": "ipython",
    "version": 3
   },
   "file_extension": ".py",
   "mimetype": "text/x-python",
   "name": "python",
   "nbconvert_exporter": "python",
   "pygments_lexer": "ipython3",
   "version": "3.11.7"
  }
 },
 "nbformat": 4,
 "nbformat_minor": 5
}
